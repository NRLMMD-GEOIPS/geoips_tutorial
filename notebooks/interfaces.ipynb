{
 "cells": [
  {
   "cell_type": "markdown",
   "metadata": {},
   "source": [
    "# Setup environment for this Jupyter notebook\n"
   ]
  },
  {
   "cell_type": "code",
   "execution_count": null,
   "metadata": {},
   "outputs": [],
   "source": [
    "\n",
    "# Set GEOIPS Paths, if they do not already exist\n",
    "%run utils/set_env.ipy\n",
    "set_geoips_env()\n",
    "\n",
    "# Import custom functions for notebook\n",
    "from utils.notebook_funcs import func_name_check, print_dict_structure, print_signatures\n",
    "\n",
    "# Other python imports\n",
    "import pprint\n",
    "pp = pprint.PrettyPrinter(indent=4)\n"
   ]
  },
  {
   "cell_type": "markdown",
   "metadata": {},
   "source": [
    "# GeoIPS module interfaces\n",
    "GeoIPS module interfaces act as generalized wrappers around for all various modular components used for processing. Signature calls for interfaces classified as stable will not change in future releases, but interfaces under development may be subject ot change until finalized.\n",
    "\n",
    "## Stable Interfaces:\n",
    "* [reader](#reader-interface)\n",
    "\n",
    "## Interfaces under Development:\n",
    "* [product](#product-interface)\n",
    "* [alg](#algorithm-interface)\n",
    "* [interp](#interpolation-interface)\n",
    "* [filename](#filename-interface)\n",
    "* [output](#output-interface)\n",
    "* [output_config](#output-config-interface)\n",
    "* [boundaries](#boundaries-interface)\n",
    "* [cmap](#colormap-interface)\n",
    "* [gridlines](#gridlines-interface)\n",
    "* [title](#title-interface)\n",
    "* [procflow](#procflow-interface)\n",
    "\n",
    "These interfaces may also be broken up into the following broad categories:\n",
    "* [Data Ingest and Manipulation](#interface-modules-for-data-ingest-and-manipulation-processing)\n",
    "* [Product Output](#interface-modules-for-product-output)\n",
    "* [Plotting](#interface-modules-for-plotting)\n",
    "* [Processing Workflow](#interface-modules-for-processing-workflows-procflows)\n"
   ]
  },
  {
   "cell_type": "markdown",
   "metadata": {},
   "source": [
    "# Interface Modules for Data Ingest and Manipulation Processing\n",
    "* [Reader Interface](#reader-interface)\n",
    "* [Product Interface](#product-interface)\n",
    "* [Algorithm](#algorithm-interface)\n",
    "* [Interpolation](#interpolation-interface)"
   ]
  },
  {
   "cell_type": "markdown",
   "metadata": {},
   "source": [
    "## **Reader Interface**\n",
    "### ***geoips.stable.reader***\n",
    "\n",
    "GeoIPS reader interface modules are accessible through wrappers under the readers interface.\n",
    "All functionality within this module will remain unchanged moving forward.\n",
    "Any backend functionality is subject to change - these wrappers will be updated to resolve any changes to backend functionality.\n",
    "\n",
    "If there is a major concern with this interface, please contact geoips@nrlmry.navy.mil to identify potential resolutions.\n",
    "\n",
    "Accessing readers within GeoIPS should always go through this interface, rather than directly importing the reader\n",
    "<a id='reader_interface'></a>\n",
    "\n",
    "#### Reader interface functions:\n",
    "* list\\_readers\\_by_type\n",
    "* get\\_reader \n",
    "* get\\_reader\\_type\n",
    "* is\\_valid\\_reader\n",
    "* test\\_reader\\_interface\n",
    "\n",
    "[Example loading the abi\\_netcdf reader](#example-loading-the-abinetcdf-reader)\n",
    "\n",
    "[Back to top](#geoips-module-interfaces)"
   ]
  },
  {
   "cell_type": "markdown",
   "metadata": {},
   "source": [
    "#### ***list\\_readers\\_by\\_type***\n",
    "The *list\\_readers\\_by\\_type* reader interface function will return a dictionary of all readers sorted by type that have been added to GeoIPS entry points"
   ]
  },
  {
   "cell_type": "code",
   "execution_count": null,
   "metadata": {},
   "outputs": [],
   "source": [
    "from geoips.stable.reader import list_readers_by_type\n",
    "help(list_readers_by_type)"
   ]
  },
  {
   "cell_type": "code",
   "execution_count": null,
   "metadata": {},
   "outputs": [],
   "source": [
    "# List available readers\n",
    "readers = list_readers_by_type()\n",
    "pp.pprint(readers)"
   ]
  },
  {
   "cell_type": "markdown",
   "metadata": {},
   "source": [
    "#### ***get\\_reader***\n",
    "The *get\\_reader* interface function returns a reader module for ingesting data. Simply pass one of the reader names returned by *list\\_readers\\_by\\_type*!"
   ]
  },
  {
   "cell_type": "code",
   "execution_count": null,
   "metadata": {},
   "outputs": [],
   "source": [
    "# Load reader interface modules\n",
    "from geoips.stable.reader import get_reader\n",
    "help(get_reader)\n"
   ]
  },
  {
   "cell_type": "markdown",
   "metadata": {},
   "source": [
    "#### ***get\\_reader\\_type***\n",
    "The *get\\_reader\\_type* function returns the type of reader, which determines the input arguments to the reader and the outputs. Currently, all readers are of type 'standard', but developers may add their own type if desired."
   ]
  },
  {
   "cell_type": "code",
   "execution_count": null,
   "metadata": {},
   "outputs": [],
   "source": [
    "from geoips.stable.reader import get_reader_type\n",
    "help(get_reader_type)"
   ]
  },
  {
   "cell_type": "markdown",
   "metadata": {},
   "source": [
    "#### ***is\\_valid\\_reader***\n",
    "The *is\\_valid\\_reader* interface function is used to test the validity of a single reader module. Returns either True or False"
   ]
  },
  {
   "cell_type": "code",
   "execution_count": null,
   "metadata": {},
   "outputs": [],
   "source": [
    "from geoips.stable.reader import is_valid_reader\n",
    "help(is_valid_reader)"
   ]
  },
  {
   "cell_type": "markdown",
   "metadata": {},
   "source": [
    "#### ***test\\_reader\\_interface***\n",
    "The *test\\_reader\\_interface* function is used to test the validity of all reader interface modules installed under entry points"
   ]
  },
  {
   "cell_type": "code",
   "execution_count": null,
   "metadata": {},
   "outputs": [],
   "source": [
    "from geoips.stable.reader import test_reader_interface\n",
    "help(test_reader_interface)"
   ]
  },
  {
   "cell_type": "code",
   "execution_count": null,
   "metadata": {},
   "outputs": [],
   "source": [
    "pp.pprint(test_reader_interface())"
   ]
  },
  {
   "cell_type": "markdown",
   "metadata": {},
   "source": [
    "### Example loading the abi_netcdf reader"
   ]
  },
  {
   "cell_type": "code",
   "execution_count": null,
   "metadata": {},
   "outputs": [],
   "source": [
    "from geoips.stable.reader import get_reader, get_reader_type, is_valid_reader\n",
    "\n",
    "# Load the abi_netcdf reader using the interface modules\n",
    "reader_func_name = 'abi_netcdf'\n",
    "reader_func = get_reader(reader_func_name)\n",
    "# Determine the reader type\n",
    "reader_type = get_reader_type(reader_func_name)\n",
    "# Test if the reader signature is valid\n",
    "valid_reader = is_valid_reader(reader_func_name)\n",
    "print(f'Loaded: {reader_func_name}; Reader type: {reader_type}; Is valid reader: {valid_reader}\\n')\n",
    "help(reader_func)"
   ]
  },
  {
   "cell_type": "markdown",
   "metadata": {},
   "source": [
    "## **Product Interface**\n",
    "### ***geoips.dev.product***\n",
    "\n",
    "The product interface contains wrapper functions for geoips product specifications. \n",
    "\n",
    "Product parameter YAML configuration files are located under geoips.yaml_configs.product_params. Product input YAML configuration files are located under geoips.yaml_configs.product_inputs.\n",
    "\n",
    "Once all related wrapper functions are finalized, this module will be moved to the geoips/stable sub-package.\n",
    "\n",
    "#### Product interface functions\n",
    "* list\\_products\n",
    "  * See [***list\\_products***](#listproducts) for all available functions\n",
    "* get\\_source\\_inputs\n",
    "* get\\_product\\_specs\n",
    "* get\\_product \n",
    "  * See [***get\\_product***](#getproduct) for all available functions\n",
    "* is\\_valid\\_product\n",
    "* test\\_product\\_interface\n",
    "\n",
    "[Example of ABI Infrared-Gray Product](#example-of-abi-infrared-gray-product)\n",
    "\n",
    "[Back to top](#geoips-module-interfaces)"
   ]
  },
  {
   "cell_type": "markdown",
   "metadata": {},
   "source": [
    "\n",
    "#### ***list\\_products***\n",
    "The *list\\_products* product interface function will return a dictionary of all products sorted by type, by product, and by source that have been added to GeoIPS entry points\n",
    "There are three other functions in the product interface that return a subset of *list\\_products*:\n",
    "* *list\\_products\\_by\\_type*\n",
    "* *list\\_products\\_by\\_source*\n",
    "* *list\\_products\\_by\\_product*"
   ]
  },
  {
   "cell_type": "code",
   "execution_count": null,
   "metadata": {},
   "outputs": [],
   "source": [
    "from geoips.dev.product import list_products\n",
    "help(list_products)"
   ]
  },
  {
   "cell_type": "code",
   "execution_count": null,
   "metadata": {},
   "outputs": [],
   "source": [
    "pp.pprint(list_products())"
   ]
  },
  {
   "cell_type": "markdown",
   "metadata": {},
   "source": [
    "#### ***get\\_source\\_inputs***\n",
    "The *get\\_source\\_inputs* interface function returns a dictionary holding the required inputs for all supported products for a given source (e.g. abi)"
   ]
  },
  {
   "cell_type": "code",
   "execution_count": null,
   "metadata": {},
   "outputs": [],
   "source": [
    "from geoips.dev.product import get_source_inputs\n",
    "help(get_source_inputs)"
   ]
  },
  {
   "cell_type": "code",
   "execution_count": null,
   "metadata": {},
   "outputs": [],
   "source": [
    "pp.pprint(get_source_inputs('abi'))"
   ]
  },
  {
   "cell_type": "markdown",
   "metadata": {},
   "source": [
    "#### ***get\\_product\\_specs***\n",
    "The *get\\_product\\_specs* interface function returns a dictionary holding all product specifications, such as: algorithm, interpolation, color map, etc."
   ]
  },
  {
   "cell_type": "code",
   "execution_count": null,
   "metadata": {},
   "outputs": [],
   "source": [
    "from geoips.dev.product import get_product_specs\n",
    "help(get_product_specs)"
   ]
  },
  {
   "cell_type": "code",
   "execution_count": null,
   "metadata": {},
   "outputs": [],
   "source": [
    "pp.pprint(get_product_specs('Infrared-Gray'))"
   ]
  },
  {
   "cell_type": "markdown",
   "metadata": {},
   "source": [
    "#### ***get\\_product***\n",
    "The *get\\_product* interface function returns a dictionary holding all the components that comprise a product\n",
    "\n",
    "The following product interface functions share the same call signature and return subsets of *get\\_product*:\n",
    "* *get\\_alg\\_name*\n",
    "* *get\\_alg\\_args*\n",
    "* *get\\_required\\_variables*\n",
    "* *get\\_requested\\_datasets\\_for\\_variables*\n",
    "* *get\\_data\\_range*\n",
    "* *get\\_interp\\_name*\n",
    "* *get\\_interp\\_args*\n",
    "* *get\\_product\\_display\\_name*\n",
    "* *get\\_cmap\\_name*\n",
    "* *get\\_cmap\\_args*\n",
    "* *get\\_covg\\_args\\_from\\_product*\n",
    "* *get\\_covg\\_from\\_product*\n"
   ]
  },
  {
   "cell_type": "code",
   "execution_count": null,
   "metadata": {},
   "outputs": [],
   "source": [
    "from geoips.dev.product import get_product\n",
    "help(get_product)"
   ]
  },
  {
   "cell_type": "code",
   "execution_count": null,
   "metadata": {},
   "outputs": [],
   "source": [
    "pp.pprint(get_product('Infrared-Gray', 'abi'))"
   ]
  },
  {
   "cell_type": "markdown",
   "metadata": {},
   "source": [
    "#### ***is\\_valid\\_product***\n",
    "The *is\\_valid\\_product* function is used to test the validity of a given product. Returns either True or False"
   ]
  },
  {
   "cell_type": "code",
   "execution_count": null,
   "metadata": {},
   "outputs": [],
   "source": [
    "from geoips.dev.product import is_valid_product\n",
    "help(is_valid_product)"
   ]
  },
  {
   "cell_type": "markdown",
   "metadata": {},
   "source": [
    "#### ***test\\_product\\_interface***\n",
    "The *test\\_product\\_interface* function is used to test the validity of every product params dictionary installed under the current GeoIPS instantiation via entry points"
   ]
  },
  {
   "cell_type": "code",
   "execution_count": null,
   "metadata": {},
   "outputs": [],
   "source": [
    "from geoips.dev.product import test_product_interface\n",
    "help(test_product_interface)"
   ]
  },
  {
   "cell_type": "markdown",
   "metadata": {},
   "source": [
    "### Example of ABI Infrared-Gray Product "
   ]
  },
  {
   "cell_type": "code",
   "execution_count": null,
   "metadata": {},
   "outputs": [],
   "source": [
    "from geoips.dev.product import get_product, get_source_inputs, get_product_specs\n",
    "\n",
    "product_name = 'Infrared-Gray'\n",
    "product_source = 'abi'\n",
    "\n",
    "# Inputs from source \n",
    "source_inputs = get_source_inputs(product_source)[product_source][product_name]\n",
    "print(f\"Source {product_source} inputs for {product_name} from get_source_inputs: {source_inputs}\")\n",
    "\n",
    "# Product specifications\n",
    "product_specs = get_product_specs(product_name)[product_name]\n",
    "print(f\"\\n{product_name} specifications from get_product_specs:\")\n",
    "pp.pprint(product_specs)\n",
    "\n",
    "# get_product combines source inputs and product specifications:\n",
    "product = get_product(product_name, product_source)\n",
    "print(f\"\\nOutput from get_product for {product_source} {product_name}:\")\n",
    "pp.pprint(product)"
   ]
  },
  {
   "cell_type": "markdown",
   "metadata": {},
   "source": [
    "## **Algorithm Interface**\n",
    "### ***geoips.dev.alg***\n",
    "\n",
    "The algorithm interface is used to access, test, and list all of the different algorithm functions that are available in the current GeoIPS instantiation.\n",
    "\n",
    "### Algorithm module functions location\n",
    "\n",
    "Algorithms are located under the interface_modules/algorithms directory (e.g.geoips.interface_modules.algorithms), and can either be placed directly under the algorithms directory or be placed under a sub-directory group (such as geoips.interface_modules.algorithms.visir).\n",
    "\n",
    "If an algorithm function lives directly under a sub-directory, the function is accessible through the algorithm interface as: \\<subdir>.\\<alg> (e.g. visir.Night_Vis)\n",
    "\n",
    "Once all related wrapper functions are finalized, this module will be moved to the geoips/stable sub-package.\n",
    "\n",
    "#### Algorithm interface functions:\n",
    "* list\\_algs\\_by_type\n",
    "* get\\_alg \n",
    "* get\\_alg\\_type\n",
    "* is\\_valid\\_alg\n",
    "* test\\_alg\\_interface\n",
    "\n",
    "[Example on how to load an algorithm](#loading-an-algorithm)\n",
    "\n",
    "[Back to top](#geoips-module-interfaces)"
   ]
  },
  {
   "cell_type": "markdown",
   "metadata": {},
   "source": [
    "### Algorithm interface functions"
   ]
  },
  {
   "cell_type": "markdown",
   "metadata": {},
   "source": [
    "#### ***list\\_algs\\_by\\_type***\n",
    "\n",
    "The *list\\_algs\\_by\\_type* algorithm interface function returns a dictionary of all algorithms added to the GeoIPS entry points environment"
   ]
  },
  {
   "cell_type": "code",
   "execution_count": null,
   "metadata": {},
   "outputs": [],
   "source": [
    "from geoips.dev.alg import list_algs_by_type\n",
    "help(list_algs_by_type)"
   ]
  },
  {
   "cell_type": "code",
   "execution_count": null,
   "metadata": {},
   "outputs": [],
   "source": [
    "pp.pprint(list_algs_by_type())"
   ]
  },
  {
   "cell_type": "markdown",
   "metadata": {},
   "source": [
    "#### ***get\\_alg***\n",
    "\n",
    "The *get\\_alg* algorithm interface function returns an algorithm module, whose call signature may vary depending on algorithm type"
   ]
  },
  {
   "cell_type": "code",
   "execution_count": null,
   "metadata": {},
   "outputs": [],
   "source": [
    "from geoips.dev.alg import get_alg\n",
    "help(get_alg)"
   ]
  },
  {
   "cell_type": "markdown",
   "metadata": {},
   "source": [
    "#### ***get\\_alg\\_type***\n",
    "\n",
    "The *get\\_alg\\_type* algorithm interface function returns the algorithm type of a given algorithm function name.\n",
    "\n",
    "Algorithm types are named after the expected input type(s) to the algorithm, and the output type of the algorithm. \\\n",
    "For example, an algorithm type of list_numpy_to_numpy implies the algorithm will expect a list of numpy arrays as input, and will return a numpy array."
   ]
  },
  {
   "cell_type": "code",
   "execution_count": null,
   "metadata": {},
   "outputs": [],
   "source": [
    "from geoips.dev.alg import get_alg_type\n",
    "help(get_alg_type)"
   ]
  },
  {
   "cell_type": "markdown",
   "metadata": {},
   "source": [
    "#### ***is\\_valid\\_alg***\n",
    "\n",
    "The *is\\_valid\\_alg* algorithm interface function tests the validity of a given algorithm function. Returns either *True* or *False*"
   ]
  },
  {
   "cell_type": "code",
   "execution_count": null,
   "metadata": {},
   "outputs": [],
   "source": [
    "from geoips.dev.alg import is_valid_alg"
   ]
  },
  {
   "cell_type": "markdown",
   "metadata": {},
   "source": [
    "#### ***test\\_alg\\_interface***\n",
    "\n",
    "The *test\\_alg\\_interface* function tests the validity of all algorithm modules installed under the current GeoIPS instantiation via entry points"
   ]
  },
  {
   "cell_type": "code",
   "execution_count": null,
   "metadata": {},
   "outputs": [],
   "source": [
    "from geoips.dev.alg import test_alg_interface\n",
    "help(test_alg_interface)"
   ]
  },
  {
   "cell_type": "markdown",
   "metadata": {},
   "source": [
    "### Example on how to load an algorithm, and the different type of algorithm call signatures"
   ]
  },
  {
   "cell_type": "markdown",
   "metadata": {},
   "source": [
    "#### Loading an algorithm:"
   ]
  },
  {
   "cell_type": "code",
   "execution_count": null,
   "metadata": {},
   "outputs": [],
   "source": [
    "from geoips.dev.alg import get_alg, get_alg_type, is_valid_alg, list_algs_by_type\n",
    "\n",
    "# Try loading the single_channel algorithm that is used by the ABI Infrared-Gray product\n",
    "alg_func_name = 'single_channel'\n",
    "\n",
    "# Double check algorithm is available  (will print a message if does not exist)\n",
    "func_name_check(alg_func_name, list_algs_by_type(), 'alg')\n",
    "\n",
    "print(f'Loading algorithm function: {alg_func_name}')\n",
    "alg_func = get_alg(alg_func_name)\n",
    "print(f'alg type: {get_alg_type(alg_func_name)}')\n",
    "print(f'is a valid algorithm: {is_valid_alg(alg_func_name)}')\n",
    "help(alg_func)"
   ]
  },
  {
   "cell_type": "markdown",
   "metadata": {},
   "source": [
    "#### Different algorithm types and their corresponding call signatures:"
   ]
  },
  {
   "cell_type": "code",
   "execution_count": null,
   "metadata": {},
   "outputs": [],
   "source": [
    "from geoips.dev.alg import get_alg, list_algs_by_type\n",
    "\n",
    "print_signatures(list_algs_by_type(), get_alg)"
   ]
  },
  {
   "cell_type": "markdown",
   "metadata": {},
   "source": [
    "## **Interpolation Interface**\n",
    "### ***geoips.dev.interp***\n",
    "\n",
    "The interpolation interface provides the tools to access interpolation routines available across all installed GeoIPS functions. Interpolation routines may be completely custom code, or wrappers around other python libraries. The interpolation routines in the main GeoIPS repositories are wrappers around pyresample and scipy functionality.\n",
    "\n",
    "Interpolation functions are located under geoips.interface_modules.interpolation\n",
    "\n",
    "Once all related wrapper functions are finalized, this module will be moved to the geoips/stable sub-package.\n",
    "\n",
    "#### Interpolation interface functions:\n",
    "* get\\_interp \n",
    "* get\\_interp\\_type\n",
    "* list\\_interps\\_by_type\n",
    "* is\\_valid\\_interp\n",
    "* test\\_interp\\_interface\n",
    "\n",
    "[Example on how to load an interpolator](#loading-an-interpolator)\n",
    "\n",
    "\n",
    "[Back to top](#geoips-module-interfaces)"
   ]
  },
  {
   "cell_type": "markdown",
   "metadata": {},
   "source": [
    "### Interpolation Interface Functions"
   ]
  },
  {
   "cell_type": "markdown",
   "metadata": {},
   "source": [
    "#### ***interp.get\\_interp***\n",
    "\n",
    "The *get\\_interp* interface function takes an interpolation name returns the corresponding function.\n"
   ]
  },
  {
   "cell_type": "code",
   "execution_count": null,
   "metadata": {},
   "outputs": [],
   "source": [
    "from geoips.dev.interp import get_interp\n",
    "help(get_interp)"
   ]
  },
  {
   "cell_type": "markdown",
   "metadata": {},
   "source": [
    "#### ***interp.get\\_interp\\_type***\n",
    "\n",
    "The *get\\_interp\\_* interface function takes an interpolation name and returns the type of interpolation function. Interpolation type should reflect the shape of the input data (i.e. 1d, 2d, 3d, grid, etc.)"
   ]
  },
  {
   "cell_type": "code",
   "execution_count": null,
   "metadata": {},
   "outputs": [],
   "source": [
    "from geoips.dev.interp import get_interp_type\n",
    "help(get_interp_type)"
   ]
  },
  {
   "cell_type": "markdown",
   "metadata": {},
   "source": [
    "#### ***interp.list\\_interps\\_by\\_type***\n",
    "The *list\\_interps\\_by\\_type* interpolation interface function returns a dictionary of all interpolation routines sorted by type that are available in the current GeoIPS instantiation"
   ]
  },
  {
   "cell_type": "code",
   "execution_count": null,
   "metadata": {},
   "outputs": [],
   "source": [
    "from geoips.dev.interp import list_interps_by_type\n",
    "help(list_interps_by_type)"
   ]
  },
  {
   "cell_type": "code",
   "execution_count": null,
   "metadata": {},
   "outputs": [],
   "source": [
    "pp.pprint(list_interps_by_type())"
   ]
  },
  {
   "cell_type": "markdown",
   "metadata": {},
   "source": [
    "#### ***interp.is\\_valid\\_interp***\n",
    "The *interp.is\\_valid\\_interp* function is used to test the validity of a given interpolation function."
   ]
  },
  {
   "cell_type": "code",
   "execution_count": null,
   "metadata": {},
   "outputs": [],
   "source": [
    "from geoips.dev.interp import is_valid_interp\n",
    "help(is_valid_interp)"
   ]
  },
  {
   "cell_type": "markdown",
   "metadata": {},
   "source": [
    "#### ***interp.test\\_interp\\_interface***\n",
    "The *test\\_interp\\_interface* functions tests the validity of all interpolation functions that are available under the current GeoIPS instantiation."
   ]
  },
  {
   "cell_type": "code",
   "execution_count": null,
   "metadata": {},
   "outputs": [],
   "source": [
    "from geoips.dev.interp import test_interp_interface\n",
    "help(test_interp_interface)"
   ]
  },
  {
   "cell_type": "markdown",
   "metadata": {},
   "source": [
    "### Example on how to load an interpolator, and the different type of interpolation call signatures"
   ]
  },
  {
   "cell_type": "markdown",
   "metadata": {},
   "source": [
    "#### Loading an interpolator:"
   ]
  },
  {
   "cell_type": "code",
   "execution_count": null,
   "metadata": {},
   "outputs": [],
   "source": [
    "from geoips.dev.interp import get_interp, get_interp_type, is_valid_interp, list_interps_by_type\n",
    "\n",
    "# Try loading the interp nearest pyresample wrapper that is used by the ABI Infrared-Gray product\n",
    "interp_func_name = 'pyresample_wrappers.interp_nearest'\n",
    "\n",
    "# Double check interpolation function is available (will print a message if does not exist)\n",
    "func_name_check(interp_func_name, list_interps_by_type(), 'interp')\n",
    "\n",
    "print(f'Loading interpolation function: {interp_func_name}')\n",
    "interp_func = get_interp(interp_func_name)\n",
    "print(f'interp type: {get_interp_type(interp_func_name)}')\n",
    "print(f'is a valid interpolator: {is_valid_interp(interp_func_name)}')\n",
    "help(interp_func)"
   ]
  },
  {
   "cell_type": "markdown",
   "metadata": {},
   "source": [
    "#### Available interpolation functions and their corresponding call signatures"
   ]
  },
  {
   "cell_type": "code",
   "execution_count": null,
   "metadata": {},
   "outputs": [],
   "source": [
    "from geoips.dev.interp import get_interp, list_interps_by_type\n",
    "\n",
    "print_signatures(list_interps_by_type(), get_interp)"
   ]
  },
  {
   "cell_type": "markdown",
   "metadata": {},
   "source": [
    "# Interface Modules for Product Output\n",
    "* [Filename Interface](#filename-interface)\n",
    "* [Output Interface](#output-interface)\n",
    "* [Output Config Interface](#output-config-interface)"
   ]
  },
  {
   "cell_type": "markdown",
   "metadata": {},
   "source": [
    "## **Filename Interface**\n",
    "### ***geoips_dev.filename***\n",
    "\n",
    "The filename interface loads the correct file naming function for a product output file. \n",
    "\n",
    "Filenamer functions are located under geoips.interface_modules.filename_formats.\n",
    "\n",
    "Once all related wrapper functions are finalized, this module will be moved to the geoips/stable sub-package.\n",
    "\n",
    "#### Filename interface functions:\n",
    "* get\\_filenamer\n",
    "* get\\_filenamer\\_type\n",
    "* list\\_filenamers\\_by_type\n",
    "* get\\_remove\\_duplicates\\_func\n",
    "* is\\_valid\\_filenamer\n",
    "* test\\_filename\\_interface\n",
    "\n",
    "[Example on how to load a filenamer](#loading-a-filenamer)\n",
    "\n",
    "[Back to top](#geoips-module-interfaces)"
   ]
  },
  {
   "cell_type": "markdown",
   "metadata": {},
   "source": [
    "### Filename Interface Functions"
   ]
  },
  {
   "cell_type": "markdown",
   "metadata": {},
   "source": [
    "#### ***filename.get\\_filenamer***\n",
    "The *get\\_filenamer* interface function takes a filenamer name and returns the corresponding function"
   ]
  },
  {
   "cell_type": "code",
   "execution_count": null,
   "metadata": {},
   "outputs": [],
   "source": [
    "from geoips.dev.filename import get_filenamer\n",
    "help(get_filenamer)"
   ]
  },
  {
   "cell_type": "markdown",
   "metadata": {},
   "source": [
    "#### ***filename.get\\_filenamer\\_type***\n",
    "The *get\\_filenamer\\_type* interface function returns the type of file naming function"
   ]
  },
  {
   "cell_type": "code",
   "execution_count": null,
   "metadata": {},
   "outputs": [],
   "source": [
    "from geoips.dev.filename import get_filenamer_type\n",
    "help(get_filenamer_type)"
   ]
  },
  {
   "cell_type": "markdown",
   "metadata": {},
   "source": [
    "#### ***filename.list\\_filenamers\\_by\\_type***\n",
    "The *list\\_filenamers\\_by\\_type* interface function returns a dictionary holding all filenamers available sorted by type that are available the current GeoIPS instantiation."
   ]
  },
  {
   "cell_type": "code",
   "execution_count": null,
   "metadata": {},
   "outputs": [],
   "source": [
    "from geoips.dev.filename import list_filenamers_by_type\n",
    "help(list_filenamers_by_type)"
   ]
  },
  {
   "cell_type": "code",
   "execution_count": null,
   "metadata": {},
   "outputs": [],
   "source": [
    "list_filenamers_by_type()"
   ]
  },
  {
   "cell_type": "markdown",
   "metadata": {},
   "source": [
    "#### ***filename.get\\_remove\\_duplicates\\_func***\n",
    "The *get\\_remove\\_duplicates\\_func*  interface function is used to load a function that removes duplicate output files."
   ]
  },
  {
   "cell_type": "code",
   "execution_count": null,
   "metadata": {},
   "outputs": [],
   "source": [
    "from geoips.dev.filename import get_remove_duplicates_func\n",
    "help(get_remove_duplicates_func)"
   ]
  },
  {
   "cell_type": "markdown",
   "metadata": {},
   "source": [
    "#### ***filename.is\\_valid\\_filenamer***\n",
    "The *is\\_valid\\_filenamer* interface function is used to test the validity of a filenamer call signature."
   ]
  },
  {
   "cell_type": "code",
   "execution_count": null,
   "metadata": {},
   "outputs": [],
   "source": [
    "from geoips.dev.filename import is_valid_filenamer\n",
    "help(is_valid_filenamer)"
   ]
  },
  {
   "cell_type": "markdown",
   "metadata": {},
   "source": [
    "#### ***filename.test\\_filename\\_interface***\n",
    "The *test\\_filename\\_interface* interface function is used to test the validity of all filenamer function call signatures across all plugins currently installed to GeoIPS."
   ]
  },
  {
   "cell_type": "code",
   "execution_count": null,
   "metadata": {},
   "outputs": [],
   "source": [
    "from geoips.dev.filename import test_filename_interface\n",
    "help(test_filename_interface)"
   ]
  },
  {
   "cell_type": "markdown",
   "metadata": {},
   "source": [
    "### Example on how to load a filenamer, and the different type of filenamer call signatures"
   ]
  },
  {
   "cell_type": "markdown",
   "metadata": {},
   "source": [
    "#### Loading a filenamer:"
   ]
  },
  {
   "cell_type": "code",
   "execution_count": null,
   "metadata": {},
   "outputs": [],
   "source": [
    "from geoips.dev.filename import get_filenamer, get_filenamer_type, is_valid_filenamer, list_filenamers_by_type\n",
    "\n",
    "# Try loading the geoips_fname filenamer module\n",
    "func_name = 'geoips_fname'\n",
    "\n",
    "# Double check filename function is available (will print a message if does not exist)\n",
    "func_name_check(func_name, list_filenamers_by_type(), 'filename')\n",
    "\n",
    "print(f'Loading filenamer function: {func_name}')\n",
    "filenamer_func = get_filenamer(func_name)\n",
    "print(f'filenamer type: {get_filenamer_type(func_name)}')\n",
    "print(f'is a valid filenamer: {is_valid_filenamer(func_name)}')\n",
    "help(filenamer_func)"
   ]
  },
  {
   "cell_type": "markdown",
   "metadata": {},
   "source": [
    "#### Available filenaming functions and their corresponding call signatures\n"
   ]
  },
  {
   "cell_type": "code",
   "execution_count": null,
   "metadata": {},
   "outputs": [],
   "source": [
    "from geoips.dev.interp import get_interp, list_interps_by_type\n",
    "\n",
    "print_signatures(list_interps_by_type(), get_interp)"
   ]
  },
  {
   "cell_type": "markdown",
   "metadata": {},
   "source": [
    "## Output Interface\n",
    "### ***geoips.dev.output***\n",
    "\n",
    "The output interface is used to access the functions that generate output products of a specified format. \n",
    "\n",
    "Outputter functions are located under geoips.interface_modules.output_formats.\n",
    "\n",
    "Once all related wrapper functions are finalized, this module will be moved to the geoips/stable sub-package.\n",
    "\n",
    "#### Output interface functions:\n",
    "* get\\_outputter\n",
    "* get\\_outputter\\_type\n",
    "* list\\_outputters\\_by_type\n",
    "* is\\_valid\\_outputter\n",
    "* test\\_output\\_interface\n",
    "\n",
    "[Example on how to load an outputter](#loading-an-outputter)\n",
    "\n",
    "[Back to top](#geoips-module-interfaces)"
   ]
  },
  {
   "cell_type": "markdown",
   "metadata": {},
   "source": [
    "### Output Interface Functions"
   ]
  },
  {
   "cell_type": "markdown",
   "metadata": {},
   "source": [
    "#### ***output.get\\_outputter***\n",
    "The *get\\_outputter* interface function takes an outputter name and returns the corresponding output product function"
   ]
  },
  {
   "cell_type": "code",
   "execution_count": null,
   "metadata": {},
   "outputs": [],
   "source": [
    "from geoips.dev.output import get_outputter\n",
    "help(get_outputter)"
   ]
  },
  {
   "cell_type": "markdown",
   "metadata": {},
   "source": [
    "#### ***output.get\\_outputter\\_type***\n",
    "The *get\\_outputter\\_type* interface function returns the outputter type for a given outputter"
   ]
  },
  {
   "cell_type": "code",
   "execution_count": null,
   "metadata": {},
   "outputs": [],
   "source": [
    "from geoips.dev.output import get_outputter_type\n",
    "help(get_outputter_type)"
   ]
  },
  {
   "cell_type": "markdown",
   "metadata": {},
   "source": [
    "#### ***output.list\\_outputters\\_by\\_type***\n",
    "The *list\\_outputters\\_by\\_type* interface function returns a dictionary holding all available outputters sorted by type for the current GeoIPS instantiation."
   ]
  },
  {
   "cell_type": "code",
   "execution_count": null,
   "metadata": {},
   "outputs": [],
   "source": [
    "from geoips.dev.output import list_outputters_by_type\n",
    "pp.pprint(list_outputters_by_type())"
   ]
  },
  {
   "cell_type": "markdown",
   "metadata": {},
   "source": [
    "#### ***output.is\\_valid\\_outputter***\n",
    "The *is\\_valid\\_outputter* interface function is used to test the validity of a given outputter function's call signature"
   ]
  },
  {
   "cell_type": "code",
   "execution_count": null,
   "metadata": {},
   "outputs": [],
   "source": [
    "from geoips.dev.output import is_valid_outputter\n",
    "help(is_valid_outputter)"
   ]
  },
  {
   "cell_type": "markdown",
   "metadata": {},
   "source": [
    "#### ***output.test\\_output\\_interface***\n",
    "The *test\\_output\\_interface* tests the validity of all outputter function call signatures across all plugins currently installed to GeoIPS"
   ]
  },
  {
   "cell_type": "code",
   "execution_count": null,
   "metadata": {},
   "outputs": [],
   "source": [
    "from geoips.dev.output import test_output_interface\n",
    "help(test_output_interface)"
   ]
  },
  {
   "cell_type": "markdown",
   "metadata": {},
   "source": [
    "### Example on how to load an outputter, and the different types of outputter call signatures"
   ]
  },
  {
   "cell_type": "markdown",
   "metadata": {},
   "source": [
    "#### Loading an outputter:"
   ]
  },
  {
   "cell_type": "code",
   "execution_count": null,
   "metadata": {},
   "outputs": [],
   "source": [
    "from geoips.dev.output import get_outputter, get_outputter_type, is_valid_outputter, list_outputters_by_type\n",
    "\n",
    "# Try loading the annotated imagery output module\n",
    "func_name = 'imagery_annotated'\n",
    "\n",
    "# Double check outputter function is available (will print a message if does not exist)\n",
    "func_name_check(func_name, list_outputters_by_type(), 'output')\n",
    "\n",
    "print(f'Loading interpolation function: {func_name}')\n",
    "outputter_func = get_outputter(func_name)\n",
    "print(f'outputter type: {get_outputter_type(func_name)}')\n",
    "print(f'is a valid outputter: {is_valid_outputter(func_name)}')\n",
    "help(outputter_func)"
   ]
  },
  {
   "cell_type": "markdown",
   "metadata": {},
   "source": [
    "#### Available output functions and their corresponding call signatures\n"
   ]
  },
  {
   "cell_type": "code",
   "execution_count": null,
   "metadata": {},
   "outputs": [],
   "source": [
    "from geoips.dev.output import get_outputter, list_outputters_by_type\n",
    "\n",
    "print_signatures(list_outputters_by_type(), get_outputter)"
   ]
  },
  {
   "cell_type": "markdown",
   "metadata": {},
   "source": [
    "## Output Config Interface\n",
    "### ***geoips.dev.output_config***\n",
    "\n",
    "The output configuration interface provides the utilties used to unpack an output YAML configuration file. Unlike the other interfaces, \n",
    "\n",
    "YAML configuration files do not need to live in a specific directory. As a result, there is no comparable \"list\\_output\\_configs\\_by\\_type\" function that shows all of the available YAML config files.\n",
    "\n",
    "Once all related wrapper functions are finalized, this module will be moved to the geoips/stable sub-package.\n",
    "\n",
    "#### Output Config interface functions:\n",
    "* get\\_minimum\\_coverage\n",
    "\n",
    "[Example on how to loading a YAML output config file](#loading-and-testing-a-yaml-output-configuration-file)\n",
    "\n",
    "[Back to top](#geoips-module-interfaces)"
   ]
  },
  {
   "cell_type": "markdown",
   "metadata": {},
   "source": [
    "### Output Config Interface Functions"
   ]
  },
  {
   "cell_type": "markdown",
   "metadata": {},
   "source": [
    "The output config interface is comprised of multiple get_\\*\\_format functions that load all the different output specifications from a YAML output configuration file dictionary. Each of the following functions (with the exception of *get\\_metadata\\_output\\_format*) share the same call signature, where an output_config_dict is passed as input.\n",
    "* *output_config.get\\_filename\\_formats*\n",
    "* *output_config.get\\_output\\_format*\n",
    "* *output_config.get\\_metadata\\_output\\_format*\n",
    "* *output_config.get\\_metadata\\_filename\\_format*\n"
   ]
  },
  {
   "cell_type": "code",
   "execution_count": null,
   "metadata": {},
   "outputs": [],
   "source": [
    "from geoips.dev.output_config import get_output_config_type, get_filename_formats, get_output_format, get_metadata_output_format, get_metadata_filename_format\n",
    "import inspect\n",
    "for func in [get_output_config_type, get_filename_formats, get_output_format, get_metadata_output_format, get_metadata_filename_format]:\n",
    "    print(f'{func.__name__} signature: {inspect.signature(func)}')"
   ]
  },
  {
   "cell_type": "markdown",
   "metadata": {},
   "source": [
    "\n",
    "There are also get\\_\\*\\_format\\_kwargs functions that return dictionaries with the requested interface format options specified in the YAML config along with the default settings.\n",
    "* *get\\_filename\\_format\\_kwargs*\n",
    "* *get\\_metadata\\_filename\\_format\\_kwargs*\n",
    "* *get\\_output\\_format_kwargs*\n",
    "* *get\\_metadata\\_output\\_format\\_kwargs*\n"
   ]
  },
  {
   "cell_type": "code",
   "execution_count": null,
   "metadata": {},
   "outputs": [],
   "source": [
    "from geoips.dev.output_config import get_filename_format_kwargs, get_metadata_filename_format_kwargs, get_output_format_kwargs, get_metadata_output_format_kwargs\n",
    "import inspect\n",
    "for func in [get_filename_format_kwargs, get_metadata_filename_format_kwargs, get_output_format_kwargs, get_metadata_output_format_kwargs]:\n",
    "    print(f'{func.__name__} signature: {inspect.signature(func)}')"
   ]
  },
  {
   "cell_type": "markdown",
   "metadata": {},
   "source": [
    "#### ***output.get\\_output\\_config\\_type***\n",
    "The *get\\_output\\_config\\_type* interface function takes an YAML configuration dictionary name and returns the type out output configuration file"
   ]
  },
  {
   "cell_type": "code",
   "execution_count": null,
   "metadata": {},
   "outputs": [],
   "source": [
    "from geoips.dev.output_config import get_output_config_type\n",
    "help(get_outputter)"
   ]
  },
  {
   "cell_type": "markdown",
   "metadata": {},
   "source": [
    "#### ***output.get\\_minimum\\_coverage***\n",
    "The *get\\_minimum\\_coverage* loads the specified minimum coverage required to generate a product."
   ]
  },
  {
   "cell_type": "code",
   "execution_count": null,
   "metadata": {},
   "outputs": [],
   "source": [
    "from geoips.dev.output_config import get_minimum_coverage\n",
    "help(get_minimum_coverage)"
   ]
  },
  {
   "cell_type": "markdown",
   "metadata": {},
   "source": [
    "#### ***output_config.produce\\_current\\_time***\n",
    "The *produce\\_current\\_time* function determines if the current data file needs to be processed, based on the requested times"
   ]
  },
  {
   "cell_type": "code",
   "execution_count": null,
   "metadata": {},
   "outputs": [],
   "source": [
    "from geoips.dev.output_config import produce_current_time\n",
    "help(produce_current_time)"
   ]
  },
  {
   "cell_type": "markdown",
   "metadata": {},
   "source": [
    "#### ***output.is\\_valid\\_output\\_config***\n",
    "The *is\\_valid\\_output\\_config* interface function is used to test if an output_config dictionary is properly formatted"
   ]
  },
  {
   "cell_type": "code",
   "execution_count": null,
   "metadata": {},
   "outputs": [],
   "source": [
    "from geoips.dev.output_config import is_valid_output_config\n",
    "help(is_valid_output_config)"
   ]
  },
  {
   "cell_type": "markdown",
   "metadata": {},
   "source": [
    "#### ***output.test\\_output\\_config\\_interface***\n",
    "The *test\\_output\\_config\\_interface* tests the validity of a YAML configuration file format. Unlike the other interface tests, this test does not loop through all available YAML output configuration files, and only tests a specified output configuration."
   ]
  },
  {
   "cell_type": "code",
   "execution_count": null,
   "metadata": {},
   "outputs": [],
   "source": [
    "from geoips.dev.output import test_output_interface\n",
    "help(test_output_interface)"
   ]
  },
  {
   "cell_type": "markdown",
   "metadata": {},
   "source": [
    "### Example on how to load an output YAML configuration file, and test the validity"
   ]
  },
  {
   "cell_type": "markdown",
   "metadata": {},
   "source": [
    "#### Loading and testing a YAML output configuration file:"
   ]
  },
  {
   "cell_type": "code",
   "execution_count": null,
   "metadata": {},
   "outputs": [],
   "source": [
    "from geoips.dev.output_config import get_output_config_type, get_output_format, get_output_format_kwargs, is_valid_output_config, test_output_config_interface\n",
    "import os\n",
    "from pyaml_env import parse_config\n",
    "\n",
    "# Try loading the Night_Vis algorithm from the visir module\n",
    "yaml_output_config = f'{os.getenv(\"GEOIPS\")}/tests/yaml_configs/abi_test.yaml'\n",
    "\n",
    "output_dict = parse_config(yaml_output_config)\n",
    "\n",
    "pp.pprint(output_dict)\n",
    "\n",
    "config_type = get_output_config_type(output_dict)\n",
    "output_format = get_output_format(output_dict['outputs']['static'])\n",
    "is_valid = is_valid_output_config(output_dict)\n",
    "\n",
    "print(f'Output config type: {config_type}')\n",
    "print(f'Requested output format: {output_format}')\n",
    "print(f'Is valid output dict: {is_valid}')\n",
    "test_output_config_interface(output_dict)"
   ]
  },
  {
   "cell_type": "markdown",
   "metadata": {},
   "source": [
    "# Interface Modules for Plotting\n",
    "* [Boundaries Interface](#boundaries-interface)\n",
    "* [Colormap Interface](#colormap-interface)\n",
    "* [Gridlines Interface](#gridlines-interface)\n",
    "* [Title Interface](#title-interface)"
   ]
  },
  {
   "cell_type": "markdown",
   "metadata": {},
   "source": [
    "## Boundaries Interface\n",
    "### ***geoips.dev.boundaries***\n",
    "\n",
    "The boundaries interface is used to access the YAML configuration files that control the map boundaries in output imagery. \n",
    "\n",
    "YAML boundaries files are located under geoips.yaml_configs.plotting_params.boundaries.\n",
    "\n",
    "Once all related wrapper functions are finalized, this module will be moved to the geoips/stable sub-package.\n",
    "\n",
    "#### Boundaries interface functions:\n",
    "* get\\_boundaries\n",
    "* get\\_boundaries\\_type\n",
    "* list\\_boundaries\\_by_type\n",
    "* is\\_valid\\_boundaries\n",
    "* test\\_boundaries\\_interface\n",
    "\n",
    "[Example on how to load a boundaries YAML file](#loading-a-boundaries-dictionary)\n",
    "\n",
    "[Back to top](#geoips-module-interfaces)"
   ]
  },
  {
   "cell_type": "markdown",
   "metadata": {},
   "source": [
    "### Boundaries Interface Functions"
   ]
  },
  {
   "cell_type": "markdown",
   "metadata": {},
   "source": [
    "#### ***boundaries.get\\_boundaries***\n",
    "The *boundaries.get\\_boundaries* interface function takes a boundaries name and returns the corresponding boundaries dictionary."
   ]
  },
  {
   "cell_type": "code",
   "execution_count": null,
   "metadata": {},
   "outputs": [],
   "source": [
    "from geoips.dev.boundaries import get_boundaries\n",
    "help(get_boundaries)"
   ]
  },
  {
   "cell_type": "markdown",
   "metadata": {},
   "source": [
    "#### ***boundaries.get\\_boundaries\\_type***\n",
    "The *boundaries.get\\_boundaries\\_type* interface function returns the boundaries type for a given boundaries dictionary."
   ]
  },
  {
   "cell_type": "code",
   "execution_count": null,
   "metadata": {},
   "outputs": [],
   "source": [
    "from geoips.dev.boundaries import get_boundaries_type\n",
    "help(get_boundaries_type)"
   ]
  },
  {
   "cell_type": "markdown",
   "metadata": {},
   "source": [
    "#### ***boundaries.list\\_boundaries\\_by\\_type***\n",
    "The *list\\_boundaries\\_by\\_type* interface function returns a dictionary holding all available boundaries sorted by type for the current GeoIPS instantiation."
   ]
  },
  {
   "cell_type": "code",
   "execution_count": null,
   "metadata": {},
   "outputs": [],
   "source": [
    "from geoips.dev.boundaries import list_boundaries_by_type\n",
    "pp.pprint(list_boundaries_by_type())"
   ]
  },
  {
   "cell_type": "markdown",
   "metadata": {},
   "source": [
    "#### ***boundaries.is\\_valid\\_boundaries***\n",
    "The *is\\_valid\\_boundaries* interface function is used to test the validity of a given boundaries function's call signature."
   ]
  },
  {
   "cell_type": "code",
   "execution_count": null,
   "metadata": {},
   "outputs": [],
   "source": [
    "from geoips.dev.boundaries import is_valid_boundaries\n",
    "help(is_valid_boundaries)"
   ]
  },
  {
   "cell_type": "markdown",
   "metadata": {},
   "source": [
    "#### ***boundaries.test\\_boundaries\\_interface***\n",
    "The *test\\_boundaries\\_interface* tests the validity of all boundaries function call signatures across all plugins currently installed to GeoIPS."
   ]
  },
  {
   "cell_type": "code",
   "execution_count": null,
   "metadata": {},
   "outputs": [],
   "source": [
    "from geoips.dev.boundaries import test_boundaries_interface\n",
    "help(test_boundaries_interface)"
   ]
  },
  {
   "cell_type": "markdown",
   "metadata": {},
   "source": [
    "### Example on how to load a boundaries dictionary"
   ]
  },
  {
   "cell_type": "markdown",
   "metadata": {},
   "source": [
    "#### Loading a boundaries dictionary:"
   ]
  },
  {
   "cell_type": "code",
   "execution_count": null,
   "metadata": {},
   "outputs": [],
   "source": [
    "from geoips.dev.boundaries import get_boundaries, get_boundaries_type, is_valid_boundaries, list_boundaries_by_type\n",
    "\n",
    "# Try loading the defaul boundaries configuration\n",
    "func_name = 'default'\n",
    "\n",
    "# Double check boundaries function is available (will print a message if does not exist)\n",
    "func_name_check(func_name, list_boundaries_by_type(), 'boundaries')\n",
    "\n",
    "print(f'Loading boundaries function: {func_name}')\n",
    "boundaries_dict = get_boundaries(func_name)\n",
    "print(f'boundaries type: {get_boundaries_type(func_name)}')\n",
    "print(f'is a valid boundaries: {is_valid_boundaries(func_name)}')\n",
    "pp.pprint(boundaries_dict)"
   ]
  },
  {
   "cell_type": "markdown",
   "metadata": {},
   "source": [
    "#### Available boundaries settings and their corresponding dictionary structure\n"
   ]
  },
  {
   "cell_type": "code",
   "execution_count": null,
   "metadata": {},
   "outputs": [],
   "source": [
    "from geoips.dev.boundaries import get_boundaries, list_boundaries_by_type\n",
    "\n",
    "print_dict_structure(list_boundaries_by_type(), get_boundaries)"
   ]
  },
  {
   "cell_type": "markdown",
   "metadata": {},
   "source": [
    "## Colormap Interface\n",
    "### ***geoips.dev.cmap***\n",
    "\n",
    "The colormap interface is used to access the functions that create colormaps for imagery output. \n",
    "\n",
    "Colormap functions are located under geoips.interface_modules.user_colormaps.\n",
    "\n",
    "Once all related wrapper functions are finalized, this module will be moved to the geoips/stable sub-package.\n",
    "\n",
    "#### Colormap interface functions:\n",
    "* get\\_cmap\n",
    "* get\\_cmap\\_type\n",
    "* list\\_cmaps\\_by_type\n",
    "* is\\_valid\\_cmap\n",
    "* test\\_cmap\\_interface\n",
    "\n",
    "[Example on how to load a colormap module](#loading-a-colormap)\n",
    "\n",
    "[Back to top](#geoips-module-interfaces)"
   ]
  },
  {
   "cell_type": "markdown",
   "metadata": {},
   "source": [
    "### Colormap Interface Functions"
   ]
  },
  {
   "cell_type": "markdown",
   "metadata": {},
   "source": [
    "#### ***cmap.get\\_cmap***\n",
    "The *cmap.get\\_cmap* interface function takes a colormap name and returns the corresponding colormap function."
   ]
  },
  {
   "cell_type": "code",
   "execution_count": null,
   "metadata": {},
   "outputs": [],
   "source": [
    "from geoips.dev.cmap import get_cmap\n",
    "help(get_cmap)"
   ]
  },
  {
   "cell_type": "markdown",
   "metadata": {},
   "source": [
    "#### ***cmap.get\\_cmap\\_type***\n",
    "The *cmap.get\\_cmap\\_type* interface function returns the colormap type of a given colormap module."
   ]
  },
  {
   "cell_type": "code",
   "execution_count": null,
   "metadata": {},
   "outputs": [],
   "source": [
    "from geoips.dev.cmap import get_cmap_type\n",
    "help(get_cmap_type)"
   ]
  },
  {
   "cell_type": "markdown",
   "metadata": {},
   "source": [
    "#### ***cmap.list\\_cmaps\\_by\\_type***\n",
    "The *list\\_cmaps\\_by\\_type* interface function returns a dictionary holding all available cmaps sorted by type for the current GeoIPS instantiation."
   ]
  },
  {
   "cell_type": "code",
   "execution_count": null,
   "metadata": {},
   "outputs": [],
   "source": [
    "from geoips.dev.cmap import list_cmaps_by_type\n",
    "pp.pprint(list_cmaps_by_type())"
   ]
  },
  {
   "cell_type": "markdown",
   "metadata": {},
   "source": [
    "#### ***cmap.is\\_valid\\_cmap***\n",
    "The *is\\_valid\\_cmap* interface function is used to test the validity of a given cmap function's call signature."
   ]
  },
  {
   "cell_type": "code",
   "execution_count": null,
   "metadata": {},
   "outputs": [],
   "source": [
    "from geoips.dev.cmap import is_valid_cmap\n",
    "help(is_valid_cmap)"
   ]
  },
  {
   "cell_type": "markdown",
   "metadata": {},
   "source": [
    "#### ***cmap.test\\_cmap\\_interface***\n",
    "The *test\\_cmap\\_interface* tests the validity of all cmap function call signatures across all plugins currently installed to GeoIPS."
   ]
  },
  {
   "cell_type": "code",
   "execution_count": null,
   "metadata": {},
   "outputs": [],
   "source": [
    "from geoips.dev.cmap import test_cmap_interface\n",
    "help(test_cmap_interface)"
   ]
  },
  {
   "cell_type": "markdown",
   "metadata": {},
   "source": [
    "### Example on how to load a colormap, and the different type of colormap call signatures"
   ]
  },
  {
   "cell_type": "markdown",
   "metadata": {},
   "source": [
    "#### Loading a colormap:"
   ]
  },
  {
   "cell_type": "code",
   "execution_count": null,
   "metadata": {},
   "outputs": [],
   "source": [
    "from geoips.dev.cmap import get_cmap, get_cmap_type, is_valid_cmap, list_cmaps_by_type\n",
    "\n",
    "# Try loading the matplotlib_linear_norm colormap function used by the ABI Infrared-Gray product\n",
    "func_name = 'matplotlib_linear_norm'\n",
    "\n",
    "# Double check cmap function is available (will print a message if does not exist)\n",
    "func_name_check(func_name, list_cmaps_by_type(), 'cmap')\n",
    "\n",
    "print(f'Loading cmap function: {func_name}')\n",
    "cmap_func = get_cmap(func_name)\n",
    "print(f'cmap type: {get_cmap_type(func_name)}')\n",
    "print(f'is a valid cmap: {is_valid_cmap(func_name)}')\n",
    "help(cmap_func)"
   ]
  },
  {
   "cell_type": "markdown",
   "metadata": {},
   "source": [
    "#### Available colormap functions and their corresponding call signatures\n"
   ]
  },
  {
   "cell_type": "code",
   "execution_count": null,
   "metadata": {},
   "outputs": [],
   "source": [
    "from geoips.dev.cmap import get_cmap, list_cmaps_by_type\n",
    "\n",
    "print_signatures(list_cmaps_by_type(), get_cmap)"
   ]
  },
  {
   "cell_type": "markdown",
   "metadata": {},
   "source": [
    "## Gridlines Interface\n",
    "### ***geoips.dev.gridlines***\n",
    "\n",
    "The gridlines interface is used to access the YAML configuration files that control the map gridlines in output imagery. \n",
    "\n",
    "YAML gridlines files are located under geoips.yaml_configs.plotting_params.gridlines.\n",
    "\n",
    "Once all related wrapper functions are finalized, this module will be moved to the geoips/stable sub-package.\n",
    "\n",
    "#### Gridlines interface functions:\n",
    "* get\\_gridlines\n",
    "* get\\_gridlines\\_type\n",
    "* list\\_gridlines\\_by_type\n",
    "* set\\_lonlat\\_spacing\n",
    "* is\\_valid\\_gridlines\n",
    "* test\\_gridlines\\_interface\n",
    "\n",
    "[Example on how to load a gridlines YAML file](#loading-a-gridlines-dictionary)\n",
    "\n",
    "[Back to top](#geoips-module-interfaces)"
   ]
  },
  {
   "cell_type": "markdown",
   "metadata": {},
   "source": [
    "### Gridlines Interface Functions"
   ]
  },
  {
   "cell_type": "markdown",
   "metadata": {},
   "source": [
    "#### ***gridlines.get\\_gridlines***\n",
    "The *gridlines.get\\_gridlines* interface function takes a gridlines name and returns the corresponding gridlines dictionary."
   ]
  },
  {
   "cell_type": "code",
   "execution_count": null,
   "metadata": {},
   "outputs": [],
   "source": [
    "from geoips.dev.gridlines import get_gridlines\n",
    "help(get_gridlines)"
   ]
  },
  {
   "cell_type": "markdown",
   "metadata": {},
   "source": [
    "#### ***gridlines.get\\_gridlines\\_type***\n",
    "The *gridlines.get\\_gridlines\\_type* interface function returns the gridlines type for a given gridlines dictionary."
   ]
  },
  {
   "cell_type": "code",
   "execution_count": null,
   "metadata": {},
   "outputs": [],
   "source": [
    "from geoips.dev.gridlines import get_gridlines_type\n",
    "help(get_gridlines_type)"
   ]
  },
  {
   "cell_type": "markdown",
   "metadata": {},
   "source": [
    "#### ***gridlines.list\\_gridlines\\_by\\_type***\n",
    "The *list\\_gridlines\\_by\\_type* interface function returns a dictionary holding all available gridlines sorted by type for the current GeoIPS instantiation."
   ]
  },
  {
   "cell_type": "code",
   "execution_count": null,
   "metadata": {},
   "outputs": [],
   "source": [
    "from geoips.dev.gridlines import list_gridlines_by_type\n",
    "pp.pprint(list_gridlines_by_type())"
   ]
  },
  {
   "cell_type": "markdown",
   "metadata": {},
   "source": [
    "#### ***gridlines.set\\_lonlat\\_spacing***\n",
    "The *gridlines.set\\_lonlat\\_spacing* interface function either creates or updates the gridlines information dictionary with a provided area definition."
   ]
  },
  {
   "cell_type": "code",
   "execution_count": null,
   "metadata": {},
   "outputs": [],
   "source": [
    "from geoips.dev.gridlines import set_lonlat_spacing\n",
    "help(set_lonlat_spacing)"
   ]
  },
  {
   "cell_type": "markdown",
   "metadata": {},
   "source": [
    "#### ***gridlines.is\\_valid\\_gridlines***\n",
    "The *is\\_valid\\_gridlines* interface function is used to test the validity of a given gridlines function's call signature."
   ]
  },
  {
   "cell_type": "code",
   "execution_count": null,
   "metadata": {},
   "outputs": [],
   "source": [
    "from geoips.dev.gridlines import is_valid_gridlines\n",
    "help(is_valid_gridlines)"
   ]
  },
  {
   "cell_type": "markdown",
   "metadata": {},
   "source": [
    "#### ***gridlines.test\\_gridlines\\_interface***\n",
    "The *test\\_gridlines\\_interface* tests the validity of all gridlines function call signatures across all plugins currently installed to GeoIPS."
   ]
  },
  {
   "cell_type": "code",
   "execution_count": null,
   "metadata": {},
   "outputs": [],
   "source": [
    "from geoips.dev.gridlines import test_gridlines_interface\n",
    "help(test_gridlines_interface)"
   ]
  },
  {
   "cell_type": "markdown",
   "metadata": {},
   "source": [
    "### Example on how to load a gridlines module, and the different types of gridline call signatures"
   ]
  },
  {
   "cell_type": "markdown",
   "metadata": {},
   "source": [
    "#### Loading a gridlines dictionary:"
   ]
  },
  {
   "cell_type": "code",
   "execution_count": null,
   "metadata": {},
   "outputs": [],
   "source": [
    "from geoips.dev.gridlines import get_gridlines, get_gridlines_type, is_valid_gridlines, list_gridlines_by_type\n",
    "\n",
    "# Try loading the default gridlines configuration\n",
    "func_name = 'default'\n",
    "\n",
    "# Double check gridlines function is available (will print a message if does not exist)\n",
    "func_name_check(func_name, list_boundaries_by_type(), 'gridlines')\n",
    "\n",
    "print(f'Loading gridlines function: {func_name}')\n",
    "gridlines_dict = get_gridlines(func_name)\n",
    "print(f'gridlines type: {get_gridlines_type(func_name)}')\n",
    "print(f'is a valid gridlines: {is_valid_gridlines(func_name)}')\n",
    "pp.pprint(gridlines_dict)"
   ]
  },
  {
   "cell_type": "markdown",
   "metadata": {},
   "source": [
    "#### Available gridline settings and their corresponding dictionary structure\n"
   ]
  },
  {
   "cell_type": "code",
   "execution_count": null,
   "metadata": {},
   "outputs": [],
   "source": [
    "from geoips.dev.gridlines import get_gridlines, list_gridlines_by_type\n",
    "\n",
    "print_dict_structure(list_gridlines_by_type(), get_gridlines)"
   ]
  },
  {
   "cell_type": "markdown",
   "metadata": {},
   "source": [
    "## Title Interface\n",
    "### ***geoips.dev.title***\n",
    "\n",
    "The title interface is used to access the functions that create the titles used in imagery output. \n",
    "\n",
    "Title functions are located under geoips.interface_modules.title_formats.\n",
    "\n",
    "Once all related wrapper functions are finalized, this module will be moved to the geoips/stable sub-package.\n",
    "\n",
    "#### Title interface functions:\n",
    "* get\\_title\n",
    "* get\\_title\\_type\n",
    "* list\\_titles\\_by_type\n",
    "* get\\_remove\\_duplicates\\_func\n",
    "* is\\_valid\\_title\n",
    "* test\\_title\\_interface\n",
    "\n",
    "[Example on how to load a title module](#loading-a-title-module)\n",
    "\n",
    "[Back to top](#geoips-module-interfaces)"
   ]
  },
  {
   "cell_type": "markdown",
   "metadata": {},
   "source": [
    "### Title Interface Functions"
   ]
  },
  {
   "cell_type": "markdown",
   "metadata": {},
   "source": [
    "#### ***title.get\\_title***\n",
    "The *title.get\\_title* interface function takes a title name and returns the corresponding title function."
   ]
  },
  {
   "cell_type": "code",
   "execution_count": null,
   "metadata": {},
   "outputs": [],
   "source": [
    "from geoips.dev.title import get_title\n",
    "help(get_title)"
   ]
  },
  {
   "cell_type": "markdown",
   "metadata": {},
   "source": [
    "#### ***title.get\\_title\\_type***\n",
    "The *title.get\\_title\\_type* interface function returns the title type for a given title function."
   ]
  },
  {
   "cell_type": "code",
   "execution_count": null,
   "metadata": {},
   "outputs": [],
   "source": [
    "from geoips.dev.title import get_title_type\n",
    "help(get_title_type)"
   ]
  },
  {
   "cell_type": "markdown",
   "metadata": {},
   "source": [
    "#### ***title.list\\_titles\\_by\\_type***\n",
    "The *list\\_titles\\_by\\_type* interface function returns a dictionary holding all available titles sorted by type for the current GeoIPS instantiation."
   ]
  },
  {
   "cell_type": "code",
   "execution_count": null,
   "metadata": {},
   "outputs": [],
   "source": [
    "from geoips.dev.title import list_titles_by_type\n",
    "pp.pprint(list_titles_by_type())"
   ]
  },
  {
   "cell_type": "markdown",
   "metadata": {},
   "source": [
    "#### ***title.get\\_remove\\_duplicates\\_func***\n",
    "The *title.get\\_remove\\_duplicates\\_func* interface function returns a function that removes duplicate ouptut files based off a given title function name."
   ]
  },
  {
   "cell_type": "code",
   "execution_count": null,
   "metadata": {},
   "outputs": [],
   "source": [
    "from geoips.dev.title import get_remove_duplicates_func\n",
    "help(get_remove_duplicates_func)"
   ]
  },
  {
   "cell_type": "markdown",
   "metadata": {},
   "source": [
    "#### ***title.is\\_valid\\_title***\n",
    "The *is\\_valid\\_title* interface function is used to test the validity of a given title function's call signature."
   ]
  },
  {
   "cell_type": "code",
   "execution_count": null,
   "metadata": {},
   "outputs": [],
   "source": [
    "from geoips.dev.title import is_valid_title\n",
    "help(is_valid_title)"
   ]
  },
  {
   "cell_type": "markdown",
   "metadata": {},
   "source": [
    "#### ***title.test\\_title\\_interface***\n",
    "The *test\\_title\\_interface* tests the validity of all title function call signatures across all plugins currently installed to GeoIPS."
   ]
  },
  {
   "cell_type": "code",
   "execution_count": null,
   "metadata": {},
   "outputs": [],
   "source": [
    "from geoips.dev.title import test_title_interface\n",
    "help(test_title_interface)"
   ]
  },
  {
   "cell_type": "markdown",
   "metadata": {},
   "source": [
    "### Example on how to load a title module, and the different type of title call signatures"
   ]
  },
  {
   "cell_type": "markdown",
   "metadata": {},
   "source": [
    "#### Loading a title module:"
   ]
  },
  {
   "cell_type": "code",
   "execution_count": null,
   "metadata": {},
   "outputs": [],
   "source": [
    "from geoips.dev.title import get_title, get_title_type, is_valid_title, list_titles_by_type\n",
    "\n",
    "# Try loading the standard TC title function\n",
    "func_name = 'tc_standard'\n",
    "\n",
    "# Double check title function is available (will print a message if does not exist)\n",
    "func_name_check(func_name, list_titles_by_type(), 'title')\n",
    "\n",
    "print(f'Loading title function: {func_name}')\n",
    "title_func = get_title(func_name)\n",
    "print(f'title type: {get_title_type(func_name)}')\n",
    "print(f'is a valid title: {is_valid_title(func_name)}')\n",
    "help(title_func)"
   ]
  },
  {
   "cell_type": "markdown",
   "metadata": {},
   "source": [
    "#### Available title functions and their corresponding call signatures\n"
   ]
  },
  {
   "cell_type": "code",
   "execution_count": null,
   "metadata": {},
   "outputs": [],
   "source": [
    "from geoips.dev.title import get_title, list_titles_by_type\n",
    "\n",
    "print_signatures(list_titles_by_type(), get_title)"
   ]
  },
  {
   "cell_type": "markdown",
   "metadata": {},
   "source": [
    "# Interface Modules for Processing Workflows (procflows)\n",
    "* [Procflow Interface](#procflow-interface)"
   ]
  },
  {
   "cell_type": "markdown",
   "metadata": {},
   "source": [
    "## Procflow Interface\n",
    "### ***geoips.dev.procflow***\n",
    "\n",
    "The procflow interface is used to access the processing workflow functions that manage data ingest, manipulation, and output. \n",
    "\n",
    "Procflow functions are located under geoips.interface_modules.procflows.\n",
    "\n",
    "Once all related wrapper functions are finalized, this module will be moved to the geoips/stable sub-package.\n",
    "\n",
    "#### Title interface functions:\n",
    "* get\\_procflow\n",
    "* get\\_procflow\\_type\n",
    "* list\\_procflows\\_by_type\n",
    "* is\\_valid\\_procflow\n",
    "* test\\_procflow\\_interface\n",
    "\n",
    "[Example on how to load a procflow module](#loading-a-procflow)\n",
    "\n",
    "[Back to top](#geoips-module-interfaces)"
   ]
  },
  {
   "cell_type": "markdown",
   "metadata": {},
   "source": [
    "### Procflow Interface Functions"
   ]
  },
  {
   "cell_type": "markdown",
   "metadata": {},
   "source": [
    "#### ***procflow.get\\_procflow***\n",
    "The *procflow.get\\_procflow* interface function takes a procflow name and returns the corresponding procflow function."
   ]
  },
  {
   "cell_type": "code",
   "execution_count": null,
   "metadata": {},
   "outputs": [],
   "source": [
    "from geoips.dev.procflow import get_procflow\n",
    "help(get_procflow)"
   ]
  },
  {
   "cell_type": "markdown",
   "metadata": {},
   "source": [
    "#### ***procflow.get\\_procflow\\_type***\n",
    "The *procflow.get\\_procflow\\_type* interface function returns the procflow type for a given procflow."
   ]
  },
  {
   "cell_type": "code",
   "execution_count": null,
   "metadata": {},
   "outputs": [],
   "source": [
    "from geoips.dev.procflow import get_procflow_type\n",
    "help(get_procflow_type)"
   ]
  },
  {
   "cell_type": "markdown",
   "metadata": {},
   "source": [
    "#### ***procflow.list\\_procflows\\_by\\_type***\n",
    "The *list\\_procflows\\_by\\_type* interface function returns a dictionary holding all available procflows sorted by type for the current GeoIPS instantiation."
   ]
  },
  {
   "cell_type": "code",
   "execution_count": null,
   "metadata": {},
   "outputs": [],
   "source": [
    "from geoips.dev.procflow import list_procflows_by_type\n",
    "pp.pprint(list_procflows_by_type())"
   ]
  },
  {
   "cell_type": "markdown",
   "metadata": {},
   "source": [
    "#### ***procflow.is\\_valid\\_procflow***\n",
    "The *is\\_valid\\_procflow* interface function is used to test the validity of a given procflow function's call signature."
   ]
  },
  {
   "cell_type": "code",
   "execution_count": null,
   "metadata": {},
   "outputs": [],
   "source": [
    "from geoips.dev.procflow import is_valid_procflow\n",
    "help(is_valid_procflow)"
   ]
  },
  {
   "cell_type": "markdown",
   "metadata": {},
   "source": [
    "#### ***procflow.test\\_procflow\\_interface***\n",
    "The *test\\_procflow\\_interface* tests the validity of all procflow function call signatures across all plugins currently installed to GeoIPS."
   ]
  },
  {
   "cell_type": "code",
   "execution_count": null,
   "metadata": {},
   "outputs": [],
   "source": [
    "from geoips.dev.procflow import test_procflow_interface\n",
    "help(test_procflow_interface)"
   ]
  },
  {
   "cell_type": "markdown",
   "metadata": {},
   "source": [
    "### Example on how to load a procflow"
   ]
  },
  {
   "cell_type": "markdown",
   "metadata": {},
   "source": [
    "#### Loading a procflow:"
   ]
  },
  {
   "cell_type": "code",
   "execution_count": null,
   "metadata": {},
   "outputs": [],
   "source": [
    "from geoips.dev.procflow import get_procflow, get_procflow_type, is_valid_procflow, list_procflows_by_type\n",
    "\n",
    "# Try loading the single source procflow function\n",
    "procflow_name = 'single_source'\n",
    "\n",
    "# Double check title function is available (will print a message if does not exist)\n",
    "func_name_check(procflow_name, list_procflows_by_type(), 'procflow')\n",
    "\n",
    "print(f'Loading procflow function: {procflow_name}')\n",
    "procflow_func = get_procflow(procflow_name)\n",
    "print(f'procflow type: {get_procflow_type(procflow_name)}')\n",
    "print(f'is a valid procflow: {is_valid_procflow(procflow_name)}')\n",
    "help(procflow_func)"
   ]
  }
 ],
 "metadata": {
  "kernelspec": {
   "display_name": "Python 3.9.12 ('geoips_conda')",
   "language": "python",
   "name": "python3"
  },
  "language_info": {
   "codemirror_mode": {
    "name": "ipython",
    "version": 3
   },
   "file_extension": ".py",
   "mimetype": "text/x-python",
   "name": "python",
   "nbconvert_exporter": "python",
   "pygments_lexer": "ipython3",
   "version": "3.9.12"
  },
  "orig_nbformat": 4,
  "vscode": {
   "interpreter": {
    "hash": "4bf2c9faf9faa314849deb680c51df00d74fc1f404dff9a663ea8a464c608c0d"
   }
  }
 },
 "nbformat": 4,
 "nbformat_minor": 2
}
